{
 "cells": [
  {
   "cell_type": "code",
   "execution_count": 1,
   "metadata": {},
   "outputs": [],
   "source": [
    "import util"
   ]
  },
  {
   "cell_type": "code",
   "execution_count": 2,
   "metadata": {},
   "outputs": [],
   "source": [
    "c = util.Preprocess(5)"
   ]
  },
  {
   "cell_type": "code",
   "execution_count": 3,
   "metadata": {},
   "outputs": [],
   "source": [
    "a = c.make_longform('songs')"
   ]
  },
  {
   "cell_type": "code",
   "execution_count": 4,
   "metadata": {},
   "outputs": [
    {
     "data": {
      "text/plain": [
       "array([[0.00000e+00, 0.00000e+00, 1.00000e+00],\n",
       "       [0.00000e+00, 1.00000e+00, 1.00000e+00],\n",
       "       [0.00000e+00, 2.00000e+00, 1.00000e+00],\n",
       "       ...,\n",
       "       [1.38085e+05, 2.63000e+03, 1.00000e+00],\n",
       "       [1.38085e+05, 3.08700e+03, 1.00000e+00],\n",
       "       [1.38085e+05, 3.33980e+04, 1.00000e+00]])"
      ]
     },
     "execution_count": 4,
     "metadata": {},
     "output_type": "execute_result"
    }
   ],
   "source": [
    "a"
   ]
  },
  {
   "cell_type": "code",
   "execution_count": 5,
   "metadata": {},
   "outputs": [],
   "source": [
    "b = c.make_longform('tags')"
   ]
  },
  {
   "cell_type": "code",
   "execution_count": 6,
   "metadata": {},
   "outputs": [
    {
     "data": {
      "text/plain": [
       "array([[0.00000e+00, 0.00000e+00, 1.00000e+00],\n",
       "       [1.00000e+00, 1.00000e+00, 1.00000e+00],\n",
       "       [1.00000e+00, 2.00000e+00, 1.00000e+00],\n",
       "       ...,\n",
       "       [1.38082e+05, 2.78000e+02, 1.00000e+00],\n",
       "       [1.38082e+05, 1.99600e+03, 1.00000e+00],\n",
       "       [1.38082e+05, 3.76000e+02, 1.00000e+00]])"
      ]
     },
     "execution_count": 6,
     "metadata": {},
     "output_type": "execute_result"
    }
   ],
   "source": [
    "b"
   ]
  },
  {
   "cell_type": "code",
   "execution_count": null,
   "metadata": {},
   "outputs": [],
   "source": []
  }
 ],
 "metadata": {
  "kernelspec": {
   "display_name": "Python 3",
   "language": "python",
   "name": "python3"
  },
  "language_info": {
   "codemirror_mode": {
    "name": "ipython",
    "version": 3
   },
   "file_extension": ".py",
   "mimetype": "text/x-python",
   "name": "python",
   "nbconvert_exporter": "python",
   "pygments_lexer": "ipython3",
   "version": "3.7.4"
  }
 },
 "nbformat": 4,
 "nbformat_minor": 2
}
